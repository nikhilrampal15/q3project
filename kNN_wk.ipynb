{
 "cells": [
  {
   "cell_type": "code",
   "execution_count": 1,
   "metadata": {
    "collapsed": true
   },
   "outputs": [],
   "source": [
    "import pandas as pd\n",
    "import numpy as np\n",
    "import math\n",
    "from read_csvfile import read_csvfile"
   ]
  },
  {
   "cell_type": "code",
   "execution_count": 2,
   "metadata": {
    "collapsed": true
   },
   "outputs": [],
   "source": [
    "def find_similar_houses(data, feature_name, centroids, new_house, num_neighbors):\n",
    "    new_zestimate = new_house.loc[feature_name]\n",
    "    print(\"target zestimate = {}\".format(new_zestimate))\n",
    "    cluster_idx = find_nearest_cluster(new_zestimate, centroids)\n",
    "    print(\"target cluster = {}\".format(cluster_idx))\n",
    "    target_cluster_data = data.loc[data['cluster'] == cluster_idx]\n",
    "\n",
    "    # find num_neighbors from target_cluster_data\n",
    "    neighbors = kNN(target_cluster_data, feature_name, new_house, num_neighbors)\n",
    "    return neighbors"
   ]
  },
  {
   "cell_type": "code",
   "execution_count": 3,
   "metadata": {
    "collapsed": true
   },
   "outputs": [],
   "source": [
    "def kNN(data, feature_name, new_house, num_neighbors):\n",
    "    data = data.sort_values(by=[feature_name], ascending=[True])\n",
    "    print(\"num of houses in this cluster = {}\".format(len(data)))\n",
    "    # print neighbors\n",
    "    new_zestimate = new_house.loc[feature_name]\n",
    "    zestimate_data = data[feature_name]\n",
    "\n",
    "    # find num_neighbors items that has closest distance to new_house\n",
    "    distances = []\n",
    "    for index, row in enumerate(zestimate_data):\n",
    "        # print index\n",
    "        curr_zestimate = row\n",
    "        euclidean_distance = math.sqrt(math.pow((curr_zestimate - new_zestimate), 2))\n",
    "        distances.append([index, euclidean_distance])\n",
    "    distances.sort(key=getKey)\n",
    "    print distances\n",
    "\n",
    "    for i in range(num_neighbors):\n",
    "        item_idx = distances[i][0]\n",
    "        neighbor = data.iloc[item_idx]\n",
    "        print neighbor\n",
    "\n",
    "    neighbors = data.iloc[range(num_neighbors),:]\n",
    "    return neighbors"
   ]
  },
  {
   "cell_type": "code",
   "execution_count": 4,
   "metadata": {
    "collapsed": true
   },
   "outputs": [],
   "source": [
    "def getKey(item):\n",
    "    return item[1]"
   ]
  },
  {
   "cell_type": "code",
   "execution_count": 5,
   "metadata": {
    "collapsed": true
   },
   "outputs": [],
   "source": [
    "def find_nearest_cluster(item, centroids):\n",
    "    min_distance = float('inf')\n",
    "    for idx, centroid in enumerate(centroids):\n",
    "        euclidean_distance = math.sqrt(math.pow((centroid - item), 2))\n",
    "        if euclidean_distance < min_distance:\n",
    "            min_distance = euclidean_distance\n",
    "            cluster_idx = idx\n",
    "    return cluster_idx"
   ]
  },
  {
   "cell_type": "code",
   "execution_count": 6,
   "metadata": {
    "collapsed": true
   },
   "outputs": [],
   "source": [
    "def main():\n",
    "    city = 'test'\n",
    "    filename = 'data/propertyInfo/{}.csv'.format(city)\n",
    "    data = read_csvfile(filename)\n",
    "    feature_name = 'zestimate'\n",
    "    new_house = pd.DataFrame.from_dict({'zpid': '16948197',\n",
    "                              'street': '4129 Middlesex Dr',\n",
    "                              'city':'San Diego',\n",
    "                              'state':'CA',\n",
    "                              'zipcode':'92116',\n",
    "                              'bedroom': 3,\n",
    "                              'bathroom': 3,\n",
    "                              'sqft': 1750,\n",
    "                              'zestimate': 976980}, orient = 'index')\n",
    "    num_neighbors = 3\n",
    "    neighbors = kNN(data, feature_name, new_house, num_neighbors)\n",
    "#     print neighbors"
   ]
  },
  {
   "cell_type": "code",
   "execution_count": 8,
   "metadata": {
    "collapsed": false
   },
   "outputs": [
    {
     "name": "stdout",
     "output_type": "stream",
     "text": [
      "num of houses in this cluster = 10\n",
      "[[9, 171693.0], [8, 301992.0], [7, 474632.0], [5, 540604.0], [6, 540604.0], [4, 610020.0], [3, 616459.0], [2, 727641.0], [1, 873873.0], [0, 891904.0]]\n",
      "zpid                 26828806\n",
      "street       5924 Melshire Dr\n",
      "city                   Dallas\n",
      "state                      TX\n",
      "zipcode                 75230\n",
      "bedroom                     3\n",
      "bathroom                    3\n",
      "sqft                     4308\n",
      "zestimate             1148673\n",
      "Name: 1, dtype: object\n",
      "zpid                  26702853\n",
      "street       5918 Mercedes Ave\n",
      "city                    Dallas\n",
      "state                       TX\n",
      "zipcode                  75206\n",
      "bedroom                      3\n",
      "bathroom                     2\n",
      "sqft                      2441\n",
      "zestimate               674988\n",
      "Name: 4, dtype: object\n",
      "zpid                       69676218\n",
      "street       3827 Holland Ave APT C\n",
      "city                         Dallas\n",
      "state                            TX\n",
      "zipcode                       75219\n",
      "bedroom                           3\n",
      "bathroom                          4\n",
      "sqft                           2181\n",
      "zestimate                    502348\n",
      "Name: 7, dtype: object\n",
      "        zpid                   street     city state  zipcode  bedroom  \\\n",
      "9   26816968        9030 Cardella Ave   Dallas    TX    75217        3   \n",
      "2  120753444         2710 Silkwood St   Dallas    TX    75215        3   \n",
      "3   26914346  5131 Whispering Oaks Dr   Dallas    TX    75236        4   \n",
      "\n",
      "   bathroom  sqft  zestimate  \n",
      "9       1.0   884      85076  \n",
      "2       2.0  1279     103107  \n",
      "3       3.0  2271     249339  \n"
     ]
    }
   ],
   "source": [
    "main()"
   ]
  },
  {
   "cell_type": "code",
   "execution_count": null,
   "metadata": {
    "collapsed": true
   },
   "outputs": [],
   "source": []
  }
 ],
 "metadata": {
  "kernelspec": {
   "display_name": "Python 2",
   "language": "python",
   "name": "python2"
  },
  "language_info": {
   "codemirror_mode": {
    "name": "ipython",
    "version": 2
   },
   "file_extension": ".py",
   "mimetype": "text/x-python",
   "name": "python",
   "nbconvert_exporter": "python",
   "pygments_lexer": "ipython2",
   "version": "2.7.10"
  }
 },
 "nbformat": 4,
 "nbformat_minor": 0
}
